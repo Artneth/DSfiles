{
  "nbformat": 4,
  "nbformat_minor": 0,
  "metadata": {
    "colab": {
      "provenance": []
    },
    "kernelspec": {
      "name": "python3",
      "display_name": "Python 3"
    },
    "language_info": {
      "name": "python"
    }
  },
  "cells": [
    {
      "cell_type": "markdown",
      "source": [
        "## Exercise 1: Prime Numbers"
      ],
      "metadata": {
        "id": "UxIU7FZlZ59T"
      }
    },
    {
      "cell_type": "code",
      "execution_count": null,
      "metadata": {
        "colab": {
          "base_uri": "https://localhost:8080/"
        },
        "id": "LRQqUWR8Zo2E",
        "outputId": "7ce13d08-a185-447f-a41f-71ceb319ebc4"
      },
      "outputs": [
        {
          "output_type": "stream",
          "name": "stdout",
          "text": [
            "Enter a number:97\n",
            "97 is a prime number\n"
          ]
        }
      ],
      "source": [
        "#Get input\n",
        "Number = int(input('Enter a number:'))\n",
        "\n",
        "if Number > 1:\n",
        "  #Check for factors\n",
        "  for i in range(2, Number):\n",
        "    if (Number % i) == 0:\n",
        "     print(Number, 'is not a prime number')\n",
        "     break\n",
        "  else:\n",
        "    #Is prime if 'for' loop did not break\n",
        "    print(Number, 'is a prime number')\n",
        "else:\n",
        "  print(Number, 'is not a prime number')"
      ]
    },
    {
      "cell_type": "markdown",
      "source": [
        "## Exercise 2: Product of Random Numbers"
      ],
      "metadata": {
        "id": "UiYMh3f0gI2_"
      }
    },
    {
      "cell_type": "code",
      "source": [
        "#Get 2 random numbers\n",
        "import random\n",
        "a = random.randint(2, 50)\n",
        "b = random.randint(2, 50)\n",
        "\n",
        "#Collect input\n",
        "R = int(input(f'Enter the product of {a} and {b}: '))\n",
        "\n",
        "#Check and give result\n",
        "if R == a*b:\n",
        "  print('Correct!')\n",
        "else:\n",
        "  print('Incorrect')"
      ],
      "metadata": {
        "colab": {
          "base_uri": "https://localhost:8080/"
        },
        "id": "rjMAgBxbgK6I",
        "outputId": "1313348f-1afd-49c1-894a-84fef748f229"
      },
      "execution_count": null,
      "outputs": [
        {
          "output_type": "stream",
          "name": "stdout",
          "text": [
            "Enter the product of 34 and 11: 374\n",
            "Correct!\n"
          ]
        }
      ]
    },
    {
      "cell_type": "markdown",
      "source": [
        "## Exercise 3: Squares of Even/Odd Numbers"
      ],
      "metadata": {
        "id": "j4FPOF2jkBWR"
      }
    },
    {
      "cell_type": "code",
      "source": [
        "#Squares of all even numbers from 100 to 200\n",
        "for i in range(100, 201):\n",
        "  if i % 2 == 0:\n",
        "    print(i*i)"
      ],
      "metadata": {
        "colab": {
          "base_uri": "https://localhost:8080/"
        },
        "collapsed": true,
        "id": "hKIO6XFBkB8n",
        "outputId": "ad2b4389-48c0-4d07-aed1-858baec0f2df"
      },
      "execution_count": null,
      "outputs": [
        {
          "output_type": "stream",
          "name": "stdout",
          "text": [
            "10000\n",
            "10404\n",
            "10816\n",
            "11236\n",
            "11664\n",
            "12100\n",
            "12544\n",
            "12996\n",
            "13456\n",
            "13924\n",
            "14400\n",
            "14884\n",
            "15376\n",
            "15876\n",
            "16384\n",
            "16900\n",
            "17424\n",
            "17956\n",
            "18496\n",
            "19044\n",
            "19600\n",
            "20164\n",
            "20736\n",
            "21316\n",
            "21904\n",
            "22500\n",
            "23104\n",
            "23716\n",
            "24336\n",
            "24964\n",
            "25600\n",
            "26244\n",
            "26896\n",
            "27556\n",
            "28224\n",
            "28900\n",
            "29584\n",
            "30276\n",
            "30976\n",
            "31684\n",
            "32400\n",
            "33124\n",
            "33856\n",
            "34596\n",
            "35344\n",
            "36100\n",
            "36864\n",
            "37636\n",
            "38416\n",
            "39204\n",
            "40000\n"
          ]
        }
      ]
    },
    {
      "cell_type": "markdown",
      "source": [
        "## Exercise 4: Word counter"
      ],
      "metadata": {
        "id": "wQw0r6QRmFl3"
      }
    },
    {
      "cell_type": "code",
      "source": [
        "input_text = input('Enter text: ')\n",
        "\n",
        "#Split the text into words\n",
        "words = input_text.split()\n",
        "\n",
        "#Create an empty dictionary to store word counts\n",
        "word_counts = {}\n",
        "\n",
        "#Count words\n",
        "for word in words:\n",
        "    if word in word_counts:\n",
        "        word_counts[word] += 1\n",
        "    else:\n",
        "        word_counts[word] = 1\n",
        "\n",
        "#Print the results\n",
        "for word, count in word_counts.items():\n",
        "    print(f\"'{word}': {count}\")\n"
      ],
      "metadata": {
        "colab": {
          "base_uri": "https://localhost:8080/"
        },
        "id": "hXMWl10emGMM",
        "outputId": "a4995489-aedc-4363-efd0-d12752d644bc"
      },
      "execution_count": null,
      "outputs": [
        {
          "output_type": "stream",
          "name": "stdout",
          "text": [
            "Enter text: This is a sample text. This text will be used to demonstrate the word counter.\n",
            "'This': 2\n",
            "'is': 1\n",
            "'a': 1\n",
            "'sample': 1\n",
            "'text.': 1\n",
            "'text': 1\n",
            "'will': 1\n",
            "'be': 1\n",
            "'used': 1\n",
            "'to': 1\n",
            "'demonstrate': 1\n",
            "'the': 1\n",
            "'word': 1\n",
            "'counter.': 1\n"
          ]
        }
      ]
    },
    {
      "cell_type": "markdown",
      "source": [
        "## Exercise 5: Check for Palindrome"
      ],
      "metadata": {
        "id": "4vMAR3LkrgsG"
      }
    },
    {
      "cell_type": "code",
      "source": [
        "Word = input('Enter a word: ')\n",
        "if Word == Word[::-1]:\n",
        "  print('True')\n",
        "else:\n",
        "  print('False')"
      ],
      "metadata": {
        "colab": {
          "base_uri": "https://localhost:8080/"
        },
        "id": "_Yei4dpirg-2",
        "outputId": "b3be6867-ab71-4f0c-f972-b1a413d0d5d3"
      },
      "execution_count": null,
      "outputs": [
        {
          "output_type": "stream",
          "name": "stdout",
          "text": [
            "Enter a word: DAD\n",
            "True\n"
          ]
        }
      ]
    }
  ]
}