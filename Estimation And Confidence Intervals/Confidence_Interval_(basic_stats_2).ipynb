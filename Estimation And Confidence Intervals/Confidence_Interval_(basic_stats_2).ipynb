{
  "nbformat": 4,
  "nbformat_minor": 0,
  "metadata": {
    "colab": {
      "provenance": []
    },
    "kernelspec": {
      "name": "python3",
      "display_name": "Python 3"
    },
    "language_info": {
      "name": "python"
    }
  },
  "cells": [
    {
      "cell_type": "code",
      "source": [
        "import numpy as np\n",
        "import scipy.stats as stats"
      ],
      "metadata": {
        "id": "RSD3Au4946wZ"
      },
      "execution_count": null,
      "outputs": []
    },
    {
      "cell_type": "markdown",
      "source": [
        "# A"
      ],
      "metadata": {
        "id": "VQnBQ1tZD0Ai"
      }
    },
    {
      "cell_type": "code",
      "source": [
        "data = np.array([1.13, 1.55, 1.43, 0.92, 1.25, 1.36, 1.32, 0.85, 1.07, 1.48, 1.20, 1.33, 1.18, 1.22, 1.29])\n",
        "data_ci = stats.t.interval(0.99, 14, loc = data.mean(), scale = data.std()/np.sqrt(15))\n",
        "data_ci"
      ],
      "metadata": {
        "colab": {
          "base_uri": "https://localhost:8080/"
        },
        "id": "X97IMXeb5IOX",
        "outputId": "69e58a6b-67eb-4863-c056-1f2e1119fda0"
      },
      "execution_count": null,
      "outputs": [
        {
          "output_type": "execute_result",
          "data": {
            "text/plain": [
              "(1.095231668626123, 1.3821016647072102)"
            ]
          },
          "metadata": {},
          "execution_count": 13
        }
      ]
    },
    {
      "cell_type": "markdown",
      "source": [
        "### 99% Confidence Interval is from 1.095 million to 1.382 million.\n",
        "* Import required libraries.\n",
        "* Create array with data.\n",
        "* Provide confidence interval, degrees of freedom, mean and standard error of data to 'stats.t.interval' command.\n",
        "\n",
        "Since the sample population is small (n<30) and the population standard deviation in unknown I used the t-distribution."
      ],
      "metadata": {
        "id": "6IOEZmMB-gW5"
      }
    },
    {
      "cell_type": "markdown",
      "source": [
        "# B"
      ],
      "metadata": {
        "id": "aCV_qG--D2_8"
      }
    },
    {
      "cell_type": "code",
      "source": [
        "data_ci_b = stats.norm.interval(0.99, loc = data.mean(), scale = 0.2/np.sqrt(15))\n",
        "data_ci_b"
      ],
      "metadata": {
        "colab": {
          "base_uri": "https://localhost:8080/"
        },
        "id": "bvHDJwYp8Ftm",
        "outputId": "86a17aa1-3aae-4216-fd0b-72d61b3af94c"
      },
      "execution_count": null,
      "outputs": [
        {
          "output_type": "execute_result",
          "data": {
            "text/plain": [
              "(1.1056514133957607, 1.3716819199375725)"
            ]
          },
          "metadata": {},
          "execution_count": 17
        }
      ]
    },
    {
      "cell_type": "markdown",
      "source": [
        "### 99% Confidence Interval is from 1.106 million to 1.372 million\n",
        "when population standard deviation is 0.2 million characters."
      ],
      "metadata": {
        "id": "No46-YI0FsZT"
      }
    }
  ]
}